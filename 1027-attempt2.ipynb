{
 "cells": [
  {
   "cell_type": "code",
   "execution_count": 2,
   "metadata": {},
   "outputs": [
    {
     "name": "stdout",
     "output_type": "stream",
     "text": [
      "Requirement already satisfied: numpy in /Applications/anaconda3/lib/python3.11/site-packages (2.1.2)\n",
      "Requirement already satisfied: pandas in /Applications/anaconda3/lib/python3.11/site-packages (2.2.3)\n",
      "Requirement already satisfied: python-dateutil>=2.8.2 in /Applications/anaconda3/lib/python3.11/site-packages (from pandas) (2.8.2)\n",
      "Requirement already satisfied: pytz>=2020.1 in /Applications/anaconda3/lib/python3.11/site-packages (from pandas) (2024.1)\n",
      "Requirement already satisfied: tzdata>=2022.7 in /Applications/anaconda3/lib/python3.11/site-packages (from pandas) (2024.1)\n",
      "Requirement already satisfied: six>=1.5 in /Applications/anaconda3/lib/python3.11/site-packages (from python-dateutil>=2.8.2->pandas) (1.16.0)\n",
      "Note: you may need to restart the kernel to use updated packages.\n"
     ]
    }
   ],
   "source": [
    "pip install --upgrade numpy pandas"
   ]
  },
  {
   "cell_type": "code",
   "execution_count": 2,
   "metadata": {},
   "outputs": [],
   "source": [
    "import pandas as pd\n",
    "df= pd.read_csv('clean_predata_1020.csv')"
   ]
  },
  {
   "cell_type": "code",
   "execution_count": 5,
   "metadata": {},
   "outputs": [
    {
     "data": {
      "text/plain": [
       "Index(['Unnamed: 0.1', 'UserID', 'Unnamed: 0', 'ResponseID',\n",
       "       'ExtendedSessionID', 'ScenarioOrder', 'Intervention', 'PedPed',\n",
       "       'Barrier', 'CrossingSignal', 'NumberOfCharacters',\n",
       "       'DiffNumberOFCharacters', 'Saved', 'Man', 'Woman', 'Pregnant',\n",
       "       'Stroller', 'OldMan', 'OldWoman', 'Boy', 'Girl', 'Homeless',\n",
       "       'LargeWoman', 'LargeMan', 'Criminal', 'MaleExecutive',\n",
       "       'FemaleExecutive', 'FemaleAthlete', 'MaleAthlete', 'FemaleDoctor',\n",
       "       'MaleDoctor', 'Dog', 'Cat'],\n",
       "      dtype='object')"
      ]
     },
     "execution_count": 5,
     "metadata": {},
     "output_type": "execute_result"
    }
   ],
   "source": [
    "df.columns"
   ]
  },
  {
   "cell_type": "code",
   "execution_count": 7,
   "metadata": {},
   "outputs": [
    {
     "name": "stdout",
     "output_type": "stream",
     "text": [
      "         Male  Female  Pregnant  Baby  Children  Adult  Senior  Large  \\\n",
      "0           1       2         0     0         2      0       1      0   \n",
      "1           2       1         0     0         0      3       0      1   \n",
      "2           2       0         0     0         0      2       0      0   \n",
      "3           1       0         0     0         0      1       0      0   \n",
      "4           0       0         1     0         0      0       0      0   \n",
      "...       ...     ...       ...   ...       ...    ...     ...    ...   \n",
      "9704245     1       1         0     0         0      2       0      1   \n",
      "9704246     0       3         0     0         2      1       0      0   \n",
      "9704247     1       1         0     0         0      2       0      0   \n",
      "9704248     1       1         0     0         0      2       0      0   \n",
      "9704249     0       3         0     0         0      2       1      0   \n",
      "\n",
      "         Profession  Criminal  Homeless  Animal  \n",
      "0                 0         0         0       0  \n",
      "1                 2         0         1       0  \n",
      "2                 1         1         0       0  \n",
      "3                 0         0         0       0  \n",
      "4                 0         0         0       0  \n",
      "...             ...       ...       ...     ...  \n",
      "9704245           0         0         0       0  \n",
      "9704246           0         0         0       0  \n",
      "9704247           1         0         0       0  \n",
      "9704248           1         0         0       0  \n",
      "9704249           0         0         0       0  \n",
      "\n",
      "[9704250 rows x 12 columns]\n"
     ]
    }
   ],
   "source": [
    "import pandas as pd\n",
    "\n",
    "# original characters' feature\n",
    "character_features = [\n",
    "    'Man', 'Woman', 'Pregnant', 'Stroller', 'OldMan', 'OldWoman', 'Boy', \n",
    "    'Girl', 'Homeless', 'LargeWoman', 'LargeMan', 'Criminal', \n",
    "    'MaleExecutive', 'FemaleExecutive', 'FemaleAthlete', 'MaleAthlete', \n",
    "    'FemaleDoctor', 'MaleDoctor', 'Dog', 'Cat'\n",
    "]\n",
    "\n",
    "# tranform to new features\n",
    "df['Male'] = df['Man'] + df['OldMan'] + df['Boy'] + df['MaleExecutive'] + df['MaleAthlete'] + df['MaleDoctor'] + df['LargeMan']\n",
    "df['Female'] = df['Woman'] + df['OldWoman'] + df['Girl'] + df['FemaleExecutive'] + df['FemaleAthlete'] + df['FemaleDoctor'] + df['LargeWoman']\n",
    "df['Pregnant'] = df['Pregnant']  \n",
    "df['Baby'] = df['Stroller']  \n",
    "df['Children'] = df['Boy'] + df['Girl']  \n",
    "df['Adult'] = df['Man'] + df['Woman'] + df['MaleExecutive'] + df['FemaleExecutive'] + df['FemaleAthlete'] + df['MaleAthlete'] + df['FemaleDoctor'] + df['MaleDoctor'] + df['LargeWoman'] + df['LargeMan']  \n",
    "df['Senior'] = df['OldMan'] + df['OldWoman']  \n",
    "df['Large'] = df['LargeMan'] + df['LargeWoman']  \n",
    "df['Profession'] = df['MaleExecutive'] + df['FemaleExecutive'] + df['FemaleAthlete'] + df['MaleAthlete'] + df['FemaleDoctor'] + df['MaleDoctor']  \n",
    "df['Criminal'] = df['Criminal']  \n",
    "df['Homeless'] = df['Homeless']  \n",
    "df['Animal'] = df['Dog'] + df['Cat']  \n",
    "\n",
    "print(df[['Male', 'Female', 'Pregnant', 'Baby', 'Children', 'Adult', 'Senior', 'Large', 'Profession', 'Criminal', 'Homeless', 'Animal']])\n"
   ]
  },
  {
   "cell_type": "code",
   "execution_count": 8,
   "metadata": {},
   "outputs": [
    {
     "name": "stdout",
     "output_type": "stream",
     "text": [
      "         UserID         ResponseID               ExtendedSessionID  \\\n",
      "0  7.981091e+15  2A8SAxAa6dLGK4bGm  -2119938054_7981090920342526.0   \n",
      "1  9.964404e+15  26Q8hd6RncCNv6gut  -2119627065_9964404106140136.0   \n",
      "2  9.964404e+15  2AZSA9oesRcN5utcx  -2119627065_9964404106140136.0   \n",
      "3  5.209783e+15  254hWwD8y4bcCtxp8  -2117293878_5209782729596508.0   \n",
      "4  7.888200e+14  25mYXXQZzcAg2sG5E   -2112010153_788820015732199.0   \n",
      "\n",
      "   ScenarioOrder  Intervention  PedPed  Barrier  CrossingSignal  \\\n",
      "0             11             0       1        0               2   \n",
      "1              6             0       1        0               0   \n",
      "2             10             0       0        0               0   \n",
      "3              6             0       0        1               0   \n",
      "4              6             0       0        0               0   \n",
      "\n",
      "   NumberOfCharacters  DiffNumberOFCharacters  ...  Pregnant  Baby  Children  \\\n",
      "0                 3.0                     0.0  ...         0     0         2   \n",
      "1                 4.0                     1.0  ...         0     0         0   \n",
      "2                 3.0                     2.0  ...         0     0         0   \n",
      "3                 1.0                     0.0  ...         0     0         0   \n",
      "4                 1.0                     2.0  ...         1     0         0   \n",
      "\n",
      "   Adult  Senior  Large  Profession  Criminal  Homeless  Animal  \n",
      "0      0       1      0           0         0         0       0  \n",
      "1      3       0      1           2         0         1       0  \n",
      "2      2       0      0           1         1         0       0  \n",
      "3      1       0      0           0         0         0       0  \n",
      "4      0       0      0           0         0         0       0  \n",
      "\n",
      "[5 rows x 23 columns]\n"
     ]
    }
   ],
   "source": [
    "new_role_features = [\n",
    "    'Male', 'Female', 'Pregnant', 'Baby', 'Children', 'Adult', \n",
    "    'Senior', 'Large', 'Profession', 'Criminal', 'Homeless', 'Animal'\n",
    "]\n",
    "\n",
    "original_columns = [\n",
    "    'UserID', 'ResponseID', 'ExtendedSessionID', 'ScenarioOrder', \n",
    "    'Intervention', 'PedPed', 'Barrier', 'CrossingSignal', \n",
    "    'NumberOfCharacters', 'DiffNumberOFCharacters', 'Saved'\n",
    "]\n",
    "\n",
    "# concat new and old\n",
    "final_columns = original_columns + new_role_features\n",
    "\n",
    "new_df = df[final_columns]\n",
    "\n",
    "print(new_df.head())"
   ]
  },
  {
   "cell_type": "code",
   "execution_count": 10,
   "metadata": {},
   "outputs": [
    {
     "name": "stderr",
     "output_type": "stream",
     "text": [
      "/var/folders/x5/b6qvk1zx3dg9d_8_8zt4hf3m0000gn/T/ipykernel_94918/3969279829.py:10: SettingWithCopyWarning: \n",
      "A value is trying to be set on a copy of a slice from a DataFrame.\n",
      "Try using .loc[row_indexer,col_indexer] = value instead\n",
      "\n",
      "See the caveats in the documentation: https://pandas.pydata.org/pandas-docs/stable/user_guide/indexing.html#returning-a-view-versus-a-copy\n",
      "  new_df[proportion_column] = new_df[feature] / new_df['NumberOfCharacters']\n",
      "/var/folders/x5/b6qvk1zx3dg9d_8_8zt4hf3m0000gn/T/ipykernel_94918/3969279829.py:10: SettingWithCopyWarning: \n",
      "A value is trying to be set on a copy of a slice from a DataFrame.\n",
      "Try using .loc[row_indexer,col_indexer] = value instead\n",
      "\n",
      "See the caveats in the documentation: https://pandas.pydata.org/pandas-docs/stable/user_guide/indexing.html#returning-a-view-versus-a-copy\n",
      "  new_df[proportion_column] = new_df[feature] / new_df['NumberOfCharacters']\n",
      "/var/folders/x5/b6qvk1zx3dg9d_8_8zt4hf3m0000gn/T/ipykernel_94918/3969279829.py:10: SettingWithCopyWarning: \n",
      "A value is trying to be set on a copy of a slice from a DataFrame.\n",
      "Try using .loc[row_indexer,col_indexer] = value instead\n",
      "\n",
      "See the caveats in the documentation: https://pandas.pydata.org/pandas-docs/stable/user_guide/indexing.html#returning-a-view-versus-a-copy\n",
      "  new_df[proportion_column] = new_df[feature] / new_df['NumberOfCharacters']\n",
      "/var/folders/x5/b6qvk1zx3dg9d_8_8zt4hf3m0000gn/T/ipykernel_94918/3969279829.py:10: SettingWithCopyWarning: \n",
      "A value is trying to be set on a copy of a slice from a DataFrame.\n",
      "Try using .loc[row_indexer,col_indexer] = value instead\n",
      "\n",
      "See the caveats in the documentation: https://pandas.pydata.org/pandas-docs/stable/user_guide/indexing.html#returning-a-view-versus-a-copy\n",
      "  new_df[proportion_column] = new_df[feature] / new_df['NumberOfCharacters']\n",
      "/var/folders/x5/b6qvk1zx3dg9d_8_8zt4hf3m0000gn/T/ipykernel_94918/3969279829.py:10: SettingWithCopyWarning: \n",
      "A value is trying to be set on a copy of a slice from a DataFrame.\n",
      "Try using .loc[row_indexer,col_indexer] = value instead\n",
      "\n",
      "See the caveats in the documentation: https://pandas.pydata.org/pandas-docs/stable/user_guide/indexing.html#returning-a-view-versus-a-copy\n",
      "  new_df[proportion_column] = new_df[feature] / new_df['NumberOfCharacters']\n",
      "/var/folders/x5/b6qvk1zx3dg9d_8_8zt4hf3m0000gn/T/ipykernel_94918/3969279829.py:10: SettingWithCopyWarning: \n",
      "A value is trying to be set on a copy of a slice from a DataFrame.\n",
      "Try using .loc[row_indexer,col_indexer] = value instead\n",
      "\n",
      "See the caveats in the documentation: https://pandas.pydata.org/pandas-docs/stable/user_guide/indexing.html#returning-a-view-versus-a-copy\n",
      "  new_df[proportion_column] = new_df[feature] / new_df['NumberOfCharacters']\n",
      "/var/folders/x5/b6qvk1zx3dg9d_8_8zt4hf3m0000gn/T/ipykernel_94918/3969279829.py:10: SettingWithCopyWarning: \n",
      "A value is trying to be set on a copy of a slice from a DataFrame.\n",
      "Try using .loc[row_indexer,col_indexer] = value instead\n",
      "\n",
      "See the caveats in the documentation: https://pandas.pydata.org/pandas-docs/stable/user_guide/indexing.html#returning-a-view-versus-a-copy\n",
      "  new_df[proportion_column] = new_df[feature] / new_df['NumberOfCharacters']\n",
      "/var/folders/x5/b6qvk1zx3dg9d_8_8zt4hf3m0000gn/T/ipykernel_94918/3969279829.py:10: SettingWithCopyWarning: \n",
      "A value is trying to be set on a copy of a slice from a DataFrame.\n",
      "Try using .loc[row_indexer,col_indexer] = value instead\n",
      "\n",
      "See the caveats in the documentation: https://pandas.pydata.org/pandas-docs/stable/user_guide/indexing.html#returning-a-view-versus-a-copy\n",
      "  new_df[proportion_column] = new_df[feature] / new_df['NumberOfCharacters']\n",
      "/var/folders/x5/b6qvk1zx3dg9d_8_8zt4hf3m0000gn/T/ipykernel_94918/3969279829.py:10: SettingWithCopyWarning: \n",
      "A value is trying to be set on a copy of a slice from a DataFrame.\n",
      "Try using .loc[row_indexer,col_indexer] = value instead\n",
      "\n",
      "See the caveats in the documentation: https://pandas.pydata.org/pandas-docs/stable/user_guide/indexing.html#returning-a-view-versus-a-copy\n",
      "  new_df[proportion_column] = new_df[feature] / new_df['NumberOfCharacters']\n",
      "/var/folders/x5/b6qvk1zx3dg9d_8_8zt4hf3m0000gn/T/ipykernel_94918/3969279829.py:10: SettingWithCopyWarning: \n",
      "A value is trying to be set on a copy of a slice from a DataFrame.\n",
      "Try using .loc[row_indexer,col_indexer] = value instead\n",
      "\n",
      "See the caveats in the documentation: https://pandas.pydata.org/pandas-docs/stable/user_guide/indexing.html#returning-a-view-versus-a-copy\n",
      "  new_df[proportion_column] = new_df[feature] / new_df['NumberOfCharacters']\n",
      "/var/folders/x5/b6qvk1zx3dg9d_8_8zt4hf3m0000gn/T/ipykernel_94918/3969279829.py:10: SettingWithCopyWarning: \n",
      "A value is trying to be set on a copy of a slice from a DataFrame.\n",
      "Try using .loc[row_indexer,col_indexer] = value instead\n",
      "\n",
      "See the caveats in the documentation: https://pandas.pydata.org/pandas-docs/stable/user_guide/indexing.html#returning-a-view-versus-a-copy\n",
      "  new_df[proportion_column] = new_df[feature] / new_df['NumberOfCharacters']\n"
     ]
    },
    {
     "name": "stdout",
     "output_type": "stream",
     "text": [
      "         UserID         ResponseID               ExtendedSessionID  \\\n",
      "0  7.981091e+15  2A8SAxAa6dLGK4bGm  -2119938054_7981090920342526.0   \n",
      "1  9.964404e+15  26Q8hd6RncCNv6gut  -2119627065_9964404106140136.0   \n",
      "2  9.964404e+15  2AZSA9oesRcN5utcx  -2119627065_9964404106140136.0   \n",
      "3  5.209783e+15  254hWwD8y4bcCtxp8  -2117293878_5209782729596508.0   \n",
      "4  7.888200e+14  25mYXXQZzcAg2sG5E   -2112010153_788820015732199.0   \n",
      "\n",
      "   ScenarioOrder  Intervention  PedPed  Barrier  CrossingSignal  \\\n",
      "0             11             0       1        0               2   \n",
      "1              6             0       1        0               0   \n",
      "2             10             0       0        0               0   \n",
      "3              6             0       0        1               0   \n",
      "4              6             0       0        0               0   \n",
      "\n",
      "   NumberOfCharacters  DiffNumberOFCharacters  ...  Pregnant_Ratio  \\\n",
      "0                 3.0                     0.0  ...             0.0   \n",
      "1                 4.0                     1.0  ...             0.0   \n",
      "2                 3.0                     2.0  ...             0.0   \n",
      "3                 1.0                     0.0  ...             0.0   \n",
      "4                 1.0                     2.0  ...             1.0   \n",
      "\n",
      "   Baby_Ratio  Children_Ratio  Adult_Ratio  Senior_Ratio  Large_Ratio  \\\n",
      "0         0.0        0.666667     0.000000      0.333333         0.00   \n",
      "1         0.0        0.000000     0.750000      0.000000         0.25   \n",
      "2         0.0        0.000000     0.666667      0.000000         0.00   \n",
      "3         0.0        0.000000     1.000000      0.000000         0.00   \n",
      "4         0.0        0.000000     0.000000      0.000000         0.00   \n",
      "\n",
      "   Profession_Ratio  Criminal_Ratio  Homeless_Ratio  Animal_Ratio  \n",
      "0          0.000000        0.000000            0.00           0.0  \n",
      "1          0.500000        0.000000            0.25           0.0  \n",
      "2          0.333333        0.333333            0.00           0.0  \n",
      "3          0.000000        0.000000            0.00           0.0  \n",
      "4          0.000000        0.000000            0.00           0.0  \n",
      "\n",
      "[5 rows x 35 columns]\n"
     ]
    },
    {
     "name": "stderr",
     "output_type": "stream",
     "text": [
      "/var/folders/x5/b6qvk1zx3dg9d_8_8zt4hf3m0000gn/T/ipykernel_94918/3969279829.py:10: SettingWithCopyWarning: \n",
      "A value is trying to be set on a copy of a slice from a DataFrame.\n",
      "Try using .loc[row_indexer,col_indexer] = value instead\n",
      "\n",
      "See the caveats in the documentation: https://pandas.pydata.org/pandas-docs/stable/user_guide/indexing.html#returning-a-view-versus-a-copy\n",
      "  new_df[proportion_column] = new_df[feature] / new_df['NumberOfCharacters']\n"
     ]
    }
   ],
   "source": [
    "# calculate ratio of features\n",
    "new_role_features = [\n",
    "    'Male', 'Female', 'Pregnant', 'Baby', 'Children', 'Adult', \n",
    "    'Senior', 'Large', 'Profession', 'Criminal', 'Homeless', 'Animal'\n",
    "]\n",
    "\n",
    "for feature in new_role_features:\n",
    "    proportion_column = feature + '_Ratio' \n",
    "    new_df[proportion_column] = new_df[feature] / new_df['NumberOfCharacters']\n",
    "\n",
    "print(new_df.head())\n"
   ]
  },
  {
   "cell_type": "code",
   "execution_count": 11,
   "metadata": {},
   "outputs": [
    {
     "data": {
      "text/plain": [
       "(9704250, 35)"
      ]
     },
     "execution_count": 11,
     "metadata": {},
     "output_type": "execute_result"
    }
   ],
   "source": [
    "new_df.shape"
   ]
  },
  {
   "cell_type": "code",
   "execution_count": 12,
   "metadata": {},
   "outputs": [],
   "source": [
    "new_df.to_csv('1027_attempt2_intermediate_1.csv')"
   ]
  },
  {
   "cell_type": "code",
   "execution_count": 16,
   "metadata": {},
   "outputs": [
    {
     "data": {
      "text/plain": [
       "Index(['Unnamed: 0', 'UserID', 'ResponseID', 'ExtendedSessionID',\n",
       "       'ScenarioOrder', 'Intervention', 'PedPed', 'Barrier', 'CrossingSignal',\n",
       "       'NumberOfCharacters', 'DiffNumberOFCharacters', 'Saved', 'Male',\n",
       "       'Female', 'Pregnant', 'Baby', 'Children', 'Adult', 'Senior', 'Large',\n",
       "       'Profession', 'Criminal', 'Homeless', 'Animal', 'Male_Ratio',\n",
       "       'Female_Ratio', 'Pregnant_Ratio', 'Baby_Ratio', 'Children_Ratio',\n",
       "       'Adult_Ratio', 'Senior_Ratio', 'Large_Ratio', 'Profession_Ratio',\n",
       "       'Criminal_Ratio', 'Homeless_Ratio', 'Animal_Ratio'],\n",
       "      dtype='object')"
      ]
     },
     "execution_count": 16,
     "metadata": {},
     "output_type": "execute_result"
    }
   ],
   "source": [
    "new_df.columns"
   ]
  },
  {
   "cell_type": "code",
   "execution_count": 22,
   "metadata": {},
   "outputs": [],
   "source": [
    "new_df=pd.read_csv('1027_attempt2_intermediate_1.csv')"
   ]
  },
  {
   "cell_type": "code",
   "execution_count": 23,
   "metadata": {},
   "outputs": [],
   "source": [
    "\n",
    "ratio_features = [\n",
    "    'Male_Ratio', 'Female_Ratio', 'Pregnant_Ratio', 'Baby_Ratio', \n",
    "    'Children_Ratio', 'Adult_Ratio', 'Senior_Ratio', 'Large_Ratio', \n",
    "    'Profession_Ratio', 'Criminal_Ratio', 'Homeless_Ratio', 'Animal_Ratio'\n",
    "]\n",
    "\n",
    "# sort by responseid, saved to calculate diff among groups\n",
    "new_df = new_df.sort_values(by=['ResponseID', 'Saved']).reset_index(drop=True)\n",
    "\n",
    "result_df = new_df.copy()\n",
    "\n",
    "for feature in ratio_features:\n",
    "    diff_col = feature + '_diff'\n",
    "    \n",
    "    result_df[diff_col] = new_df[feature] - new_df[feature].shift(-1)\n",
    "\n",
    "for feature in ratio_features:\n",
    "    diff_col = feature + '_diff'\n",
    "    result_df[diff_col] = result_df[diff_col].where(result_df['Saved'] == 1, -result_df[diff_col])\n"
   ]
  },
  {
   "cell_type": "code",
   "execution_count": 26,
   "metadata": {},
   "outputs": [
    {
     "name": "stderr",
     "output_type": "stream",
     "text": [
      "/var/folders/x5/b6qvk1zx3dg9d_8_8zt4hf3m0000gn/T/ipykernel_94918/1499473454.py:10: FutureWarning: Series.fillna with 'method' is deprecated and will raise in a future version. Use obj.ffill() or obj.bfill() instead.\n",
      "  result_df[diff_col] = result_df[diff_col].fillna(method='bfill') * -1\n"
     ]
    },
    {
     "name": "stdout",
     "output_type": "stream",
     "text": [
      "0    0.0\n",
      "1    1.0\n",
      "2    1.0\n",
      "3   -0.5\n",
      "4   -0.5\n",
      "Name: Male_Ratio_diff, dtype: float64\n"
     ]
    }
   ],
   "source": [
    "# delete value in odd line\n",
    "for feature in ratio_features:\n",
    "    diff_col = feature + '_diff'\n",
    "    result_df.loc[result_df['Saved'] == 1, diff_col] = None\n",
    "\n",
    "# input odd line's value as opposite value of even line\n",
    "for feature in ratio_features:\n",
    "    diff_col = feature + '_diff'\n",
    "    result_df[diff_col] = result_df[diff_col].fillna(method='bfill') * -1\n",
    "\n",
    "print(result_df[['Male_Ratio_diff','Male_Ratio']].head())"
   ]
  },
  {
   "cell_type": "code",
   "execution_count": 30,
   "metadata": {},
   "outputs": [
    {
     "name": "stdout",
     "output_type": "stream",
     "text": [
      "          ResponseID  Saved  Male_Ratio_diff  Male_Ratio\n",
      "0  2222bRQqBTZ6dLnPH      0              0.0         0.6\n",
      "1  2222bRQqBTZ6dLnPH      1              1.0         0.6\n",
      "2  2227h9GkrNbwhBD6t      0              1.0         1.0\n",
      "3  2227h9GkrNbwhBD6t      1             -0.5         0.0\n",
      "4  222Bih22xMQR5brhF      0             -0.5         0.0\n",
      "5  222Bih22xMQR5brhF      1              0.0         0.5\n"
     ]
    }
   ],
   "source": [
    "print(result_df[['ResponseID','Saved','Male_Ratio_diff','Male_Ratio']].head(6))"
   ]
  },
  {
   "cell_type": "code",
   "execution_count": 31,
   "metadata": {},
   "outputs": [
    {
     "name": "stdout",
     "output_type": "stream",
     "text": [
      "          ResponseID  Saved  Male_Ratio_diff  Male_Ratio\n",
      "0  2222bRQqBTZ6dLnPH      0              0.0         0.6\n",
      "1  2222bRQqBTZ6dLnPH      1             -0.0         0.6\n",
      "2  2227h9GkrNbwhBD6t      0              1.0         1.0\n",
      "3  2227h9GkrNbwhBD6t      1             -1.0         0.0\n",
      "4  222Bih22xMQR5brhF      0             -0.5         0.0\n",
      "5  222Bih22xMQR5brhF      1              0.5         0.5\n"
     ]
    }
   ],
   "source": [
    "# set（Saved=1）'s line's number as last line's opposite value\n",
    "for feature in ratio_features:\n",
    "    diff_col = feature + '_diff'\n",
    "    \n",
    "    result_df.loc[result_df['Saved'] == 1, diff_col] = -result_df[diff_col].shift(1)\n",
    "\n",
    "print(result_df[['ResponseID','Saved','Male_Ratio_diff','Male_Ratio']].head(6))\n"
   ]
  },
  {
   "cell_type": "code",
   "execution_count": 34,
   "metadata": {},
   "outputs": [
    {
     "name": "stdout",
     "output_type": "stream",
     "text": [
      "           ResponseID  Saved  Female_Ratio_diff  Female_Ratio\n",
      "0   2222bRQqBTZ6dLnPH      0           0.000000      0.400000\n",
      "1   2222bRQqBTZ6dLnPH      1          -0.000000      0.400000\n",
      "2   2227h9GkrNbwhBD6t      0          -1.000000      0.000000\n",
      "3   2227h9GkrNbwhBD6t      1           1.000000      1.000000\n",
      "4   222Bih22xMQR5brhF      0          -0.250000      0.000000\n",
      "5   222Bih22xMQR5brhF      1           0.250000      0.250000\n",
      "6   222FT9fvbKwBrHNyN      0           0.000000      0.000000\n",
      "7   222FT9fvbKwBrHNyN      1          -0.000000      0.000000\n",
      "8   222GPgdeTGjHcdbw6      0           0.000000      0.500000\n",
      "9   222GPgdeTGjHcdbw6      1          -0.000000      0.500000\n",
      "10  222HoP93WuJgkceno      0           1.000000      1.000000\n",
      "11  222HoP93WuJgkceno      1          -1.000000      0.000000\n",
      "12  222MdxxSsk345LS6x      0          -0.133333      0.200000\n",
      "13  222MdxxSsk345LS6x      1           0.133333      0.333333\n",
      "14  222W4HesT5xJErJXq      0           0.000000      0.400000\n",
      "15  222W4HesT5xJErJXq      1          -0.000000      0.400000\n",
      "16  222bh6ceSDJvxhaak      0           0.000000      0.000000\n",
      "17  222bh6ceSDJvxhaak      1          -0.000000      0.000000\n",
      "18  222cT7cNHuupkipSw      0           0.000000      0.000000\n",
      "19  222cT7cNHuupkipSw      1          -0.000000      0.000000\n"
     ]
    }
   ],
   "source": [
    "print(result_df[['ResponseID','Saved','Female_Ratio_diff','Female_Ratio']].head(20))"
   ]
  },
  {
   "cell_type": "code",
   "execution_count": 33,
   "metadata": {},
   "outputs": [],
   "source": [
    "result_df.to_csv('1027_feature_transform_diff.csv')"
   ]
  },
  {
   "cell_type": "code",
   "execution_count": 35,
   "metadata": {},
   "outputs": [
    {
     "data": {
      "text/plain": [
       "Index(['Unnamed: 0', 'UserID', 'ResponseID', 'ExtendedSessionID',\n",
       "       'ScenarioOrder', 'Intervention', 'PedPed', 'Barrier', 'CrossingSignal',\n",
       "       'NumberOfCharacters', 'DiffNumberOFCharacters', 'Saved', 'Male',\n",
       "       'Female', 'Pregnant', 'Baby', 'Children', 'Adult', 'Senior', 'Large',\n",
       "       'Profession', 'Criminal', 'Homeless', 'Animal', 'Male_Ratio',\n",
       "       'Female_Ratio', 'Pregnant_Ratio', 'Baby_Ratio', 'Children_Ratio',\n",
       "       'Adult_Ratio', 'Senior_Ratio', 'Large_Ratio', 'Profession_Ratio',\n",
       "       'Criminal_Ratio', 'Homeless_Ratio', 'Animal_Ratio', 'Male_Ratio_diff',\n",
       "       'Female_Ratio_diff', 'Pregnant_Ratio_diff', 'Baby_Ratio_diff',\n",
       "       'Children_Ratio_diff', 'Adult_Ratio_diff', 'Senior_Ratio_diff',\n",
       "       'Large_Ratio_diff', 'Profession_Ratio_diff', 'Criminal_Ratio_diff',\n",
       "       'Homeless_Ratio_diff', 'Animal_Ratio_diff'],\n",
       "      dtype='object')"
      ]
     },
     "execution_count": 35,
     "metadata": {},
     "output_type": "execute_result"
    }
   ],
   "source": [
    "result_df.columns\n"
   ]
  },
  {
   "cell_type": "markdown",
   "metadata": {},
   "source": [
    "rank importance of features by xgboost"
   ]
  },
  {
   "cell_type": "code",
   "execution_count": 36,
   "metadata": {},
   "outputs": [
    {
     "name": "stdout",
     "output_type": "stream",
     "text": [
      "Starting Ratio Feature Selection\n",
      "Ratio Feature - Adding feature 'Male_Ratio' - AUC: 0.5833\n",
      "Ratio Feature - Adding feature 'Female_Ratio' - AUC: 0.6292\n",
      "Ratio Feature - Adding feature 'Pregnant_Ratio' - AUC: 0.6316\n",
      "Ratio Feature - Adding feature 'Baby_Ratio' - AUC: 0.6344\n",
      "Ratio Feature - Adding feature 'Children_Ratio' - AUC: 0.6628\n",
      "Ratio Feature - Adding feature 'Adult_Ratio' - AUC: 0.6855\n",
      "Ratio Feature - Adding feature 'Senior_Ratio' - AUC: 0.6856\n",
      "Ratio Feature - Adding feature 'Large_Ratio' - AUC: 0.6938\n",
      "Ratio Feature - Adding feature 'Profession_Ratio' - AUC: 0.6993\n",
      "Ratio Feature - Adding feature 'Criminal_Ratio' - AUC: 0.6995\n",
      "Ratio Feature - Adding feature 'Homeless_Ratio' - AUC: 0.7013\n",
      "Ratio Feature - Adding feature 'Animal_Ratio' - AUC: 0.7017\n",
      "\n",
      "Final Ratio Feature Feature Ranking by AUC improvement:\n",
      "Animal_Ratio: 0.7017\n",
      "Homeless_Ratio: 0.7013\n",
      "Criminal_Ratio: 0.6995\n",
      "Profession_Ratio: 0.6993\n",
      "Large_Ratio: 0.6938\n",
      "Senior_Ratio: 0.6856\n",
      "Adult_Ratio: 0.6855\n",
      "Children_Ratio: 0.6628\n",
      "Baby_Ratio: 0.6344\n",
      "Pregnant_Ratio: 0.6316\n",
      "Female_Ratio: 0.6292\n",
      "Male_Ratio: 0.5833\n",
      "\n",
      "Starting Diff Feature Selection\n",
      "Diff Feature - Adding feature 'Male_Ratio_diff' - AUC: 0.6011\n",
      "Diff Feature - Adding feature 'Female_Ratio_diff' - AUC: 0.6708\n",
      "Diff Feature - Adding feature 'Pregnant_Ratio_diff' - AUC: 0.6802\n",
      "Diff Feature - Adding feature 'Baby_Ratio_diff' - AUC: 0.6871\n",
      "Diff Feature - Adding feature 'Children_Ratio_diff' - AUC: 0.7349\n",
      "Diff Feature - Adding feature 'Adult_Ratio_diff' - AUC: 0.7429\n",
      "Diff Feature - Adding feature 'Senior_Ratio_diff' - AUC: 0.7446\n",
      "Diff Feature - Adding feature 'Large_Ratio_diff' - AUC: 0.7507\n",
      "Diff Feature - Adding feature 'Profession_Ratio_diff' - AUC: 0.7517\n",
      "Diff Feature - Adding feature 'Criminal_Ratio_diff' - AUC: 0.7522\n",
      "Diff Feature - Adding feature 'Homeless_Ratio_diff' - AUC: 0.7532\n",
      "Diff Feature - Adding feature 'Animal_Ratio_diff' - AUC: 0.7544\n",
      "\n",
      "Final Diff Feature Feature Ranking by AUC improvement:\n",
      "Animal_Ratio_diff: 0.7544\n",
      "Homeless_Ratio_diff: 0.7532\n",
      "Criminal_Ratio_diff: 0.7522\n",
      "Profession_Ratio_diff: 0.7517\n",
      "Large_Ratio_diff: 0.7507\n",
      "Senior_Ratio_diff: 0.7446\n",
      "Adult_Ratio_diff: 0.7429\n",
      "Children_Ratio_diff: 0.7349\n",
      "Baby_Ratio_diff: 0.6871\n",
      "Pregnant_Ratio_diff: 0.6802\n",
      "Female_Ratio_diff: 0.6708\n",
      "Male_Ratio_diff: 0.6011\n",
      "\n",
      "Starting Environment Feature Selection\n",
      "Environment Feature - Adding feature 'Intervention' - AUC: 0.5410\n",
      "Environment Feature - Adding feature 'Barrier' - AUC: 0.5484\n",
      "Environment Feature - Adding feature 'CrossingSignal' - AUC: 0.6320\n",
      "\n",
      "Final Environment Feature Feature Ranking by AUC improvement:\n",
      "CrossingSignal: 0.6320\n",
      "Barrier: 0.5484\n",
      "Intervention: 0.5410\n",
      "\n",
      "Final Selected Features: ['Male_Ratio', 'Female_Ratio', 'Pregnant_Ratio', 'Baby_Ratio', 'Children_Ratio', 'Adult_Ratio', 'Senior_Ratio', 'Large_Ratio', 'Profession_Ratio', 'Criminal_Ratio', 'Homeless_Ratio', 'Animal_Ratio', 'Male_Ratio_diff', 'Female_Ratio_diff', 'Pregnant_Ratio_diff', 'Baby_Ratio_diff', 'Children_Ratio_diff', 'Adult_Ratio_diff', 'Senior_Ratio_diff', 'Large_Ratio_diff', 'Profession_Ratio_diff', 'Criminal_Ratio_diff', 'Homeless_Ratio_diff', 'Animal_Ratio_diff', 'Intervention', 'Barrier', 'CrossingSignal']\n",
      "\n",
      "Final Model AUC with Combined Features: 0.8016\n"
     ]
    }
   ],
   "source": [
    "import pandas as pd\n",
    "import xgboost as xgb\n",
    "from sklearn.model_selection import train_test_split\n",
    "from sklearn.metrics import roc_auc_score\n",
    "\n",
    "target = 'Saved'\n",
    "\n",
    "# spilt features into 3 groups: ratio, diff, enviornment\n",
    "ratio_features = [\n",
    "    'Male_Ratio', 'Female_Ratio', 'Pregnant_Ratio', 'Baby_Ratio', \n",
    "    'Children_Ratio', 'Adult_Ratio', 'Senior_Ratio', 'Large_Ratio', \n",
    "    'Profession_Ratio', 'Criminal_Ratio', 'Homeless_Ratio', 'Animal_Ratio'\n",
    "]\n",
    "diff_features = [f + '_diff' for f in ratio_features]\n",
    "env_features = ['Intervention', 'Barrier', 'CrossingSignal']  \n",
    "\n",
    "X = result_df[ratio_features + diff_features + env_features]\n",
    "y = result_df[target]\n",
    "X_train, X_test, y_train, y_test = train_test_split(X, y, test_size=0.3, random_state=42)\n",
    "\n",
    "# stepsize features\n",
    "def stepwise_feature_selection(X_train, X_test, y_train, y_test, feature_list, feature_type):\n",
    "    selected_features = []\n",
    "    feature_importance = {}\n",
    "    best_auc = 0\n",
    "    \n",
    "    for feature in feature_list:\n",
    "        current_features = selected_features + [feature]\n",
    "        \n",
    "        model = xgb.XGBClassifier(use_label_encoder=False, eval_metric='logloss')\n",
    "        model.fit(X_train[current_features], y_train)\n",
    "        \n",
    "        y_pred = model.predict_proba(X_test[current_features])[:, 1]\n",
    "        auc = roc_auc_score(y_test, y_pred)\n",
    "        \n",
    "        feature_importance[feature] = auc\n",
    "        print(f\"{feature_type} - Adding feature '{feature}' - AUC: {auc:.4f}\")\n",
    "        \n",
    "        # check if model's performance increses after adding this feature\n",
    "        if auc > best_auc:\n",
    "            best_auc = auc\n",
    "            selected_features.append(feature)\n",
    "\n",
    "    # sort by AUC\n",
    "    sorted_features = sorted(feature_importance.items(), key=lambda x: x[1], reverse=True)\n",
    "    print(f\"\\nFinal {feature_type} Feature Ranking by AUC improvement:\")\n",
    "    for feature, score in sorted_features:\n",
    "        print(f\"{feature}: {score:.4f}\")\n",
    "    \n",
    "    return selected_features\n",
    "\n",
    "# 1. Sort the proportion features, difference features and environmental features separately\n",
    "print(\"Starting Ratio Feature Selection\")\n",
    "best_ratio_features = stepwise_feature_selection(X_train, X_test, y_train, y_test, ratio_features, \"Ratio Feature\")\n",
    "\n",
    "print(\"\\nStarting Diff Feature Selection\")\n",
    "best_diff_features = stepwise_feature_selection(X_train, X_test, y_train, y_test, diff_features, \"Diff Feature\")\n",
    "\n",
    "print(\"\\nStarting Environment Feature Selection\")\n",
    "best_env_features = stepwise_feature_selection(X_train, X_test, y_train, y_test, env_features, \"Environment Feature\")\n",
    "\n",
    "# 2. Combine the best features of each group of features for final model training and verification\n",
    "final_features = best_ratio_features + best_diff_features + best_env_features\n",
    "print(\"\\nFinal Selected Features:\", final_features)\n",
    "\n",
    "# build final model\n",
    "final_model = xgb.XGBClassifier(use_label_encoder=False, eval_metric='logloss')\n",
    "final_model.fit(X_train[final_features], y_train)\n",
    "\n",
    "# predict and test\n",
    "y_final_pred = final_model.predict_proba(X_test[final_features])[:, 1]\n",
    "final_auc = roc_auc_score(y_test, y_final_pred)\n",
    "print(f\"\\nFinal Model AUC with Combined Features: {final_auc:.4f}\")\n"
   ]
  },
  {
   "cell_type": "code",
   "execution_count": 37,
   "metadata": {},
   "outputs": [
    {
     "name": "stdout",
     "output_type": "stream",
     "text": [
      "Accuracy: 0.7327\n",
      "Recall: 0.7317\n",
      "Precision: 0.7330\n",
      "F1 Score: 0.7323\n",
      "Confusion Matrix:\n",
      "[[1068495  387820]\n",
      " [ 390394 1064566]]\n"
     ]
    }
   ],
   "source": [
    "# test\n",
    "from sklearn.metrics import accuracy_score, recall_score, precision_score, f1_score, confusion_matrix\n",
    "\n",
    "y_final_pred_class = final_model.predict(X_test[final_features])\n",
    "\n",
    "# calculate acc, recall, precision, f1\n",
    "accuracy = accuracy_score(y_test, y_final_pred_class)\n",
    "recall = recall_score(y_test, y_final_pred_class)\n",
    "precision = precision_score(y_test, y_final_pred_class)\n",
    "f1 = f1_score(y_test, y_final_pred_class)\n",
    "\n",
    "print(f\"Accuracy: {accuracy:.4f}\")\n",
    "print(f\"Recall: {recall:.4f}\")\n",
    "print(f\"Precision: {precision:.4f}\")\n",
    "print(f\"F1 Score: {f1:.4f}\")\n",
    "\n",
    "# confusion matrix\n",
    "conf_matrix = confusion_matrix(y_test, y_final_pred_class)\n",
    "print(\"Confusion Matrix:\")\n",
    "print(conf_matrix)\n"
   ]
  }
 ],
 "metadata": {
  "kernelspec": {
   "display_name": "base",
   "language": "python",
   "name": "python3"
  },
  "language_info": {
   "codemirror_mode": {
    "name": "ipython",
    "version": 3
   },
   "file_extension": ".py",
   "mimetype": "text/x-python",
   "name": "python",
   "nbconvert_exporter": "python",
   "pygments_lexer": "ipython3",
   "version": "3.11.9"
  },
  "orig_nbformat": 4
 },
 "nbformat": 4,
 "nbformat_minor": 2
}
